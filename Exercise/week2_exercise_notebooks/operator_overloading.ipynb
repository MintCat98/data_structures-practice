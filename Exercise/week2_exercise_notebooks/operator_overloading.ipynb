{
 "cells": [
  {
   "cell_type": "code",
   "execution_count": 17,
   "id": "equivalent-wichita",
   "metadata": {},
   "outputs": [],
   "source": [
    "class RGB_Color:\n",
    "    def _constrain(self, value, min_v, max_v):\n",
    "        return max(min(max_v, value), min_v)\n",
    "    \n",
    "    def __init__(self, R, G, B):\n",
    "        self._R = self._constrain(R, 0, 255)\n",
    "        self._G = self._constrain(G, 0, 255)\n",
    "        self._B = self._constrain(B, 0, 255)\n",
    "        \n",
    "    def __add__(self, other):   # Overloading \"+\" operator\n",
    "        return RGB_Color(self._constrain(self._R+other._R, 0, 255),\n",
    "                         self._constrain(self._G+other._G, 0, 255),\n",
    "                         self._constrain(self._B+other._B, 0, 255))\n",
    "        \n",
    "    def __sub__(self, other):   # Overloading \"-\" operator\n",
    "        return RGB_Color(self._constrain(self._R-other._R, 0, 255),\n",
    "                         self._constrain(self._G-other._G, 0, 255),\n",
    "                         self._constrain(self._B-other._B, 0, 255))    \n",
    "\n",
    "    def __repr__(self):  # Overloading a string representation of an object\n",
    "        return f'({self._R},{self._G},{self._B})'"
   ]
  },
  {
   "cell_type": "code",
   "execution_count": 18,
   "id": "comparable-basic",
   "metadata": {},
   "outputs": [],
   "source": [
    "color = RGB_Color(-40, 500, 35)"
   ]
  },
  {
   "cell_type": "code",
   "execution_count": 19,
   "id": "grand-ultimate",
   "metadata": {},
   "outputs": [
    {
     "name": "stdout",
     "output_type": "stream",
     "text": [
      "(0,255,35)\n"
     ]
    }
   ],
   "source": [
    "print(color)"
   ]
  },
  {
   "cell_type": "code",
   "execution_count": 20,
   "id": "lightweight-glasgow",
   "metadata": {},
   "outputs": [],
   "source": [
    "color_1 = RGB_Color(0, 127, 127)\n",
    "color_2 = RGB_Color(34, 59, 255)"
   ]
  },
  {
   "cell_type": "code",
   "execution_count": 21,
   "id": "related-think",
   "metadata": {},
   "outputs": [
    {
     "data": {
      "text/plain": [
       "(34,186,255)"
      ]
     },
     "execution_count": 21,
     "metadata": {},
     "output_type": "execute_result"
    }
   ],
   "source": [
    "color_1+color_2   # self = color_1   /  other = color_2\n",
    "# color_1.__add__(color_2)"
   ]
  },
  {
   "cell_type": "code",
   "execution_count": 22,
   "id": "underlying-ensemble",
   "metadata": {},
   "outputs": [
    {
     "data": {
      "text/plain": [
       "(0,68,0)"
      ]
     },
     "execution_count": 22,
     "metadata": {},
     "output_type": "execute_result"
    }
   ],
   "source": [
    "color_1-color_2"
   ]
  },
  {
   "cell_type": "code",
   "execution_count": null,
   "id": "alleged-addiction",
   "metadata": {},
   "outputs": [],
   "source": []
  }
 ],
 "metadata": {
  "kernelspec": {
   "display_name": "Python 3 (ipykernel)",
   "language": "python",
   "name": "python3"
  },
  "language_info": {
   "codemirror_mode": {
    "name": "ipython",
    "version": 3
   },
   "file_extension": ".py",
   "mimetype": "text/x-python",
   "name": "python",
   "nbconvert_exporter": "python",
   "pygments_lexer": "ipython3",
   "version": "3.8.16"
  }
 },
 "nbformat": 4,
 "nbformat_minor": 5
}
