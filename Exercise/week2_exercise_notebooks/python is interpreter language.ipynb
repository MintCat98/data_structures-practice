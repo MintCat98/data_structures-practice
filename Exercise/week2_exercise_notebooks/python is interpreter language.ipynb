{
 "cells": [
  {
   "cell_type": "code",
   "execution_count": 1,
   "id": "alert-radius",
   "metadata": {},
   "outputs": [],
   "source": [
    "# Code block 1\n",
    "a=10\n",
    "b=20"
   ]
  },
  {
   "cell_type": "code",
   "execution_count": 2,
   "id": "classified-metropolitan",
   "metadata": {},
   "outputs": [
    {
     "name": "stdout",
     "output_type": "stream",
     "text": [
      "30 10 20\n"
     ]
    }
   ],
   "source": [
    "# Code block 2\n",
    "print(a+b, a, b)"
   ]
  },
  {
   "cell_type": "code",
   "execution_count": 3,
   "id": "thorough-authorization",
   "metadata": {},
   "outputs": [],
   "source": [
    "# Code block 3\n",
    "a=a+b"
   ]
  },
  {
   "cell_type": "code",
   "execution_count": 4,
   "id": "preliminary-glory",
   "metadata": {},
   "outputs": [
    {
     "name": "stdout",
     "output_type": "stream",
     "text": [
      "50 30 20\n"
     ]
    }
   ],
   "source": [
    "# Code block 4\n",
    "print(a+b, a, b)"
   ]
  },
  {
   "cell_type": "markdown",
   "id": "cleared-warning",
   "metadata": {},
   "source": [
    "Python is an interpreted language.\n",
    "\n",
    "Please run the code blocks in the following orders, and watch what's printed out:\n",
    "\n",
    "1. From block 1 to block 4 serially\n",
    "2. Right after the previous step, run block 3, then block 2\n",
    "3. Repeatedly run block 3&4"
   ]
  },
  {
   "cell_type": "code",
   "execution_count": null,
   "id": "central-kingston",
   "metadata": {},
   "outputs": [],
   "source": []
  }
 ],
 "metadata": {
  "kernelspec": {
   "display_name": "Python 3 (ipykernel)",
   "language": "python",
   "name": "python3"
  },
  "language_info": {
   "codemirror_mode": {
    "name": "ipython",
    "version": 3
   },
   "file_extension": ".py",
   "mimetype": "text/x-python",
   "name": "python",
   "nbconvert_exporter": "python",
   "pygments_lexer": "ipython3",
   "version": "3.8.16"
  }
 },
 "nbformat": 4,
 "nbformat_minor": 5
}
