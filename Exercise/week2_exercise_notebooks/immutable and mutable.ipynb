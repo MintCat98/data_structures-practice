{
 "cells": [
  {
   "cell_type": "code",
   "execution_count": 1,
   "id": "harmful-teach",
   "metadata": {},
   "outputs": [
    {
     "name": "stdout",
     "output_type": "stream",
     "text": [
      "10 4339505792\n",
      "abc 140476837733744\n",
      "[20, 30, 40] 140476843871424\n",
      "30.123 140477107871472\n"
     ]
    }
   ],
   "source": [
    "a=10\n",
    "print(a, id(a))\n",
    "a='abc'\n",
    "print(a, id(a))\n",
    "a=[20, 30, 40]\n",
    "print(a, id(a))\n",
    "a=30.123\n",
    "print(a, id(a))"
   ]
  },
  {
   "cell_type": "code",
   "execution_count": 2,
   "id": "indian-bronze",
   "metadata": {},
   "outputs": [
    {
     "name": "stdout",
     "output_type": "stream",
     "text": [
      "10 10 4339505792 4339505792\n",
      "20 10 4339506112 4339505792\n"
     ]
    }
   ],
   "source": [
    "a=10\n",
    "b=a\n",
    "print(a, b, id(a), id(b))\n",
    "a+=10\n",
    "print(a, b, id(a), id(b))"
   ]
  },
  {
   "cell_type": "code",
   "execution_count": 3,
   "id": "afraid-perfume",
   "metadata": {},
   "outputs": [
    {
     "name": "stdout",
     "output_type": "stream",
     "text": [
      "[1, 2, 3] [1, 2, 3] 140476843897024 140476843897024\n",
      "[1, 2, 3, 10] [1, 2, 3, 10] 140476843897024 140476843897024\n"
     ]
    }
   ],
   "source": [
    "a=[1,2,3]\n",
    "b=a\n",
    "print(a, b, id(a), id(b))\n",
    "b.append(10)\n",
    "print(a, b, id(a), id(b))"
   ]
  },
  {
   "cell_type": "code",
   "execution_count": 4,
   "id": "weird-lottery",
   "metadata": {},
   "outputs": [
    {
     "name": "stdout",
     "output_type": "stream",
     "text": [
      "abc abc 140476837733744 140476837733744\n",
      "abc abcd 140476837733744 140477915136816\n"
     ]
    }
   ],
   "source": [
    "a='abc'\n",
    "b=a\n",
    "print(a, b, id(a), id(b))\n",
    "b=b+'d'\n",
    "print(a, b, id(a), id(b))"
   ]
  },
  {
   "cell_type": "code",
   "execution_count": null,
   "id": "severe-express",
   "metadata": {},
   "outputs": [],
   "source": [
    "a={'a', 'b', 'c'}\n",
    "b=a\n",
    "print(a, b, id(a), id(b))\n",
    "a.add('d')\n",
    "print(a, b, id(a), id(b))\n",
    "print(a,b)"
   ]
  },
  {
   "cell_type": "code",
   "execution_count": null,
   "id": "professional-likelihood",
   "metadata": {},
   "outputs": [],
   "source": []
  }
 ],
 "metadata": {
  "kernelspec": {
   "display_name": "Python 3 (ipykernel)",
   "language": "python",
   "name": "python3"
  },
  "language_info": {
   "codemirror_mode": {
    "name": "ipython",
    "version": 3
   },
   "file_extension": ".py",
   "mimetype": "text/x-python",
   "name": "python",
   "nbconvert_exporter": "python",
   "pygments_lexer": "ipython3",
   "version": "3.8.16"
  }
 },
 "nbformat": 4,
 "nbformat_minor": 5
}
