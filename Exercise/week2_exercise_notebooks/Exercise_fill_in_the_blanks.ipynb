{
 "cells": [
  {
   "cell_type": "code",
   "execution_count": 2,
   "id": "extended-chocolate",
   "metadata": {},
   "outputs": [],
   "source": [
    "from enum import Enum\n",
    "# This is a base class for representing a person.\n",
    "\n",
    "class Person:\n",
    "    class Gender(Enum):\n",
    "        other  = 0    \n",
    "        male   = 1\n",
    "        female = 2\n",
    "    \n",
    "    class State(Enum):\n",
    "        sleep = 0\n",
    "        rest = 1\n",
    "        eat = 2\n",
    "        work = 3\n",
    "        study = 4\n",
    "        play = 5\n",
    "        do_not_disturb = 6\n",
    "        dead = 7\n",
    "            \n",
    "    def __init__(self, name, birth_year, birth_month, birth_day, gender, height, weight):\n",
    "        \"\"\"\n",
    "        Initalizer of a person, having following properties:\n",
    "        \n",
    "        name            (str) the name of a person (str)\n",
    "        birth_year      (int) the year part of the birth date     example: 2001\n",
    "        birth_month     (int) the month part of the birth date    example: 8\n",
    "        birth_day       (int) the day part of the birth date      example: 23\n",
    "        gender          (Gender) 0: Other / 1: Male / 2: Female \n",
    "        \"\"\"\n",
    "        self._name: str = name\n",
    "        # ADD THE REMAINING CODE REQUIRED, refering __repr__ method of this class.\n",
    "        # A person is resting by default.\n",
    "        self._year: int = birth_year\n",
    "        self._month: int = birth_month\n",
    "        self._day: int = birth_day\n",
    "        self._gender: int = gender\n",
    "        self._height: float = height\n",
    "        self._weight: float = weight\n",
    "        self._state = self.State.rest  # initial value with enum\n",
    "        \n",
    "    def __repr__(self):\n",
    "        return f\"{self._name} is a {self._gender.name}-gender person born in {self._year}.{self._month}.{self._day} ({self._height} cm/{self._weight} kg, State: {self._state.name})\"\n",
    "    \n",
    "    def get_name(self):\n",
    "        \"\"\" FILL IN HERE \"\"\"\n",
    "        return self._name\n",
    "        \n",
    "    def get_BMI(self):\n",
    "        \"\"\" BMI fomula: mass(kg) / height(m)^2 \"\"\"\n",
    "        \"\"\" FILL IN HERE \"\"\"\n",
    "        return (self._weight / (self._height/100) ** 2)\n",
    "            \n",
    "    def get_gender(self):\n",
    "        return self._gender.name\n",
    "    \n",
    "    def get_age(self, current_year, current_month, current_day):\n",
    "        \"\"\"Calculate the age of the person (만 나이로)\"\"\"\n",
    "        \"\"\" FILL IN HERE \"\"\"    \n",
    "        korean_age = current_year - self._year + 1\n",
    "        if current_month > self._month:\n",
    "            return korean_age - 1\n",
    "        else:\n",
    "            if current_month < self._month:\n",
    "                return korean_age - 2\n",
    "            elif current_month == self._month:\n",
    "                return (korean_age - 2) if current_day < self._day else (korean_age - 1)\n",
    "        \n",
    "    def eat(self, amount):\n",
    "        \"\"\"A person ate {amount} kg of food or beverage\"\"\"\n",
    "        \"\"\" FILL IN HERE \"\"\"\n",
    "        self._weight += amount  # non-return value!!!\n",
    "        \n",
    "    def excrete(self, amount):\n",
    "        \"\"\"A person expelled some {amount} kg of mass from the body\"\"\"\n",
    "        \"\"\" FILL IN HERE \"\"\"\n",
    "        self._weight -= amount  # non-return value!!!\n",
    "        \n",
    "    def is_available(self):\n",
    "        \"\"\"A person is available (for any interrupt) only if they're resting or playing\"\"\"\n",
    "        \"\"\" FILL IN HERE \"\"\"\n",
    "        return self._state == Person.State.rest or self._state == Person.State.play\n",
    "    \n",
    "    def set_state(self, new_state):\n",
    "        \"\"\" set the current state\"\"\"\n",
    "        \"\"\" FILL IN HERE \"\"\"\n",
    "        self._state = new_state\n",
    "        \n",
    "    def get_state(self):\n",
    "        \"\"\" return the current state\"\"\"\n",
    "        \"\"\" FILL IN HERE \"\"\"\n",
    "        return self._state"
   ]
  },
  {
   "cell_type": "code",
   "execution_count": 3,
   "id": "silver-vision",
   "metadata": {},
   "outputs": [],
   "source": [
    "a = Person(\"Jane doe\", 1998, 3, 1, Person.Gender.female, 165, 60)"
   ]
  },
  {
   "cell_type": "code",
   "execution_count": 4,
   "id": "three-abortion",
   "metadata": {},
   "outputs": [
    {
     "name": "stdout",
     "output_type": "stream",
     "text": [
      "Jane doe is a female-gender person born in 1998.3.1 (165 cm/60 kg, State: rest)\n"
     ]
    }
   ],
   "source": [
    "print(a)"
   ]
  },
  {
   "cell_type": "code",
   "execution_count": 5,
   "id": "funded-progressive",
   "metadata": {},
   "outputs": [
    {
     "data": {
      "text/plain": [
       "23"
      ]
     },
     "execution_count": 5,
     "metadata": {},
     "output_type": "execute_result"
    }
   ],
   "source": [
    "a.get_age(2021, 3, 14)"
   ]
  },
  {
   "cell_type": "code",
   "execution_count": 6,
   "id": "further-thumbnail",
   "metadata": {},
   "outputs": [
    {
     "name": "stdout",
     "output_type": "stream",
     "text": [
      "Jane doe is a female-gender person born in 1998.3.1 (165 cm/60 kg, State: study)\n"
     ]
    }
   ],
   "source": [
    "a.set_state(Person.State.study)\n",
    "print(a)"
   ]
  },
  {
   "cell_type": "markdown",
   "id": "compatible-spirit",
   "metadata": {},
   "source": [
    "# Inherited classes: Student, Worker\n",
    "\n",
    "## Student class"
   ]
  },
  {
   "cell_type": "code",
   "execution_count": 6,
   "id": "alpha-recognition",
   "metadata": {},
   "outputs": [],
   "source": [
    "class Student(Person):\n",
    "    def __init__(self, name, birth_year, birth_month, birth_day, gender, height, weight, school, school_year, GPA):\n",
    "        \"\"\" FILL IN HERE \"\"\"\n",
    "        \n",
    "    def __repr__(self):\n",
    "        \"\"\" FILL IN HERE \"\"\"\n",
    "    \n",
    "    def give_grade(self, new_GPA):\n",
    "        \"\"\"\n",
    "         Rule 1) School year is increased by 0.5 each semaster. Giving a grade is done once at the end of a semaster.\n",
    "         Rule 2) Calculate the averaged GPA accordingly.\n",
    "        \"\"\"\n",
    "        \"\"\" FILL IN HERE \"\"\""
   ]
  },
  {
   "cell_type": "code",
   "execution_count": 7,
   "id": "postal-marine",
   "metadata": {},
   "outputs": [],
   "source": [
    "b = Student(\"John doe\", 2001, 5, 21, Person.Gender.male, 160, 53, 'DGIST', 2.5, 3.5)"
   ]
  },
  {
   "cell_type": "code",
   "execution_count": 8,
   "id": "exotic-rally",
   "metadata": {},
   "outputs": [
    {
     "name": "stdout",
     "output_type": "stream",
     "text": [
      "John doe is a male-gender person born in 2001.5.21 (160 cm/53 kg, State: rest)\n",
      "John doe is a 2.5-grade student in DGIST (GPA: 3.5)\n"
     ]
    }
   ],
   "source": [
    "print(b)"
   ]
  },
  {
   "cell_type": "code",
   "execution_count": 9,
   "id": "southern-hacker",
   "metadata": {},
   "outputs": [
    {
     "name": "stdout",
     "output_type": "stream",
     "text": [
      "20.703124999999996\n"
     ]
    }
   ],
   "source": [
    "print(b.get_BMI())"
   ]
  },
  {
   "cell_type": "code",
   "execution_count": 10,
   "id": "effective-ethnic",
   "metadata": {},
   "outputs": [
    {
     "name": "stdout",
     "output_type": "stream",
     "text": [
      "John doe is a male-gender person born in 2001.5.21 (160 cm/53 kg, State: rest)\n",
      "John doe is a 3.0-grade student in DGIST (GPA: 3.6333333333333333)\n"
     ]
    }
   ],
   "source": [
    "b.give_grade(4.3)\n",
    "print(b)"
   ]
  },
  {
   "cell_type": "code",
   "execution_count": 11,
   "id": "objective-finger",
   "metadata": {},
   "outputs": [
    {
     "name": "stdout",
     "output_type": "stream",
     "text": [
      "John doe is a male-gender person born in 2001.5.21 (160 cm/53 kg, State: study)\n",
      "John doe is a 3.0-grade student in DGIST (GPA: 3.6333333333333333)\n"
     ]
    }
   ],
   "source": [
    "b.set_state(Person.State.study)\n",
    "print(b)"
   ]
  },
  {
   "cell_type": "markdown",
   "id": "handmade-tribune",
   "metadata": {},
   "source": [
    "## Worker class"
   ]
  },
  {
   "cell_type": "code",
   "execution_count": 12,
   "id": "departmental-count",
   "metadata": {},
   "outputs": [],
   "source": [
    "class Worker(Person):\n",
    "    def __init__(self, name, birth_year, birth_month, birth_day, gender, weight, height, company, salary):\n",
    "        \"\"\" FILL IN HERE \"\"\"\n",
    "        \n",
    "    def __repr__(self):\n",
    "        \"\"\" FILL IN HERE \"\"\"\n",
    "     \n",
    "    def adjust_salary(self, amount):\n",
    "        \"\"\" FILL IN HERE \"\"\"\n",
    "        \n",
    "    def change_company(self, new_company):\n",
    "        \"\"\" FILL IN HERE \"\"\"\n",
    "    \n",
    "    def get_annual_income(self):\n",
    "        \"\"\" FILL IN HERE \"\"\""
   ]
  },
  {
   "cell_type": "code",
   "execution_count": 13,
   "id": "equal-dakota",
   "metadata": {},
   "outputs": [],
   "source": [
    "c = Worker(\"Lorem Ipsum\", 1979, 6, 11, Person.Gender.other, 182, 90, 'SIDComm', 3000)"
   ]
  },
  {
   "cell_type": "code",
   "execution_count": 14,
   "id": "settled-display",
   "metadata": {},
   "outputs": [
    {
     "name": "stdout",
     "output_type": "stream",
     "text": [
      "Lorem Ipsum is a other-gender person born in 1979.6.11 (182 cm/90 kg, State: rest)\n",
      "Lorem Ipsum is an employee of SIDComm, earning 3000 USD each month.\n"
     ]
    }
   ],
   "source": [
    "print(c)"
   ]
  },
  {
   "cell_type": "code",
   "execution_count": 15,
   "id": "floppy-scott",
   "metadata": {},
   "outputs": [
    {
     "name": "stdout",
     "output_type": "stream",
     "text": [
      "Lorem Ipsum is a other-gender person born in 1979.6.11 (182 cm/90.4 kg, State: work)\n",
      "Lorem Ipsum is an employee of DSComm, earning 3200 USD each month.\n"
     ]
    }
   ],
   "source": [
    "c.change_company(\"DSComm\")\n",
    "c.adjust_salary(200)\n",
    "c.set_state(Worker.State.work)\n",
    "c.eat(0.4)\n",
    "\n",
    "print(c)"
   ]
  },
  {
   "cell_type": "code",
   "execution_count": 16,
   "id": "applicable-melissa",
   "metadata": {},
   "outputs": [
    {
     "name": "stdout",
     "output_type": "stream",
     "text": [
      "Lorem Ipsum earns 38400 USD per a year.\n"
     ]
    }
   ],
   "source": [
    "print(f\"{c.get_name()} earns {c.get_annual_income()} USD per a year.\")"
   ]
  },
  {
   "cell_type": "code",
   "execution_count": 17,
   "id": "appropriate-liquid",
   "metadata": {},
   "outputs": [
    {
     "data": {
      "text/plain": [
       "False"
      ]
     },
     "execution_count": 17,
     "metadata": {},
     "output_type": "execute_result"
    }
   ],
   "source": [
    "c.is_available()"
   ]
  },
  {
   "cell_type": "code",
   "execution_count": 18,
   "id": "directed-durham",
   "metadata": {},
   "outputs": [
    {
     "name": "stdout",
     "output_type": "stream",
     "text": [
      "Lorem Ipsum is a other-gender person born in 1979.6.11 (182 cm/89.60000000000001 kg, State: play)\n",
      "Lorem Ipsum is an employee of DSComm, earning 3200 USD each month.\n",
      "You can call to Lorem Ipsum.\n"
     ]
    }
   ],
   "source": [
    "c.set_state( Person.State.play)\n",
    "c.excrete(0.8)\n",
    "\n",
    "print(c)\n",
    "if (c.is_available()):\n",
    "    print(f\"You can call to {c.get_name()}.\")\n",
    "else:\n",
    "    print(f\"{c.get_name()} is busy now.\")"
   ]
  }
 ],
 "metadata": {
  "kernelspec": {
   "display_name": "Python 3 (ipykernel)",
   "language": "python",
   "name": "python3"
  },
  "language_info": {
   "codemirror_mode": {
    "name": "ipython",
    "version": 3
   },
   "file_extension": ".py",
   "mimetype": "text/x-python",
   "name": "python",
   "nbconvert_exporter": "python",
   "pygments_lexer": "ipython3",
   "version": "3.9.13"
  }
 },
 "nbformat": 4,
 "nbformat_minor": 5
}
