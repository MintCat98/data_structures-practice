{
 "cells": [
  {
   "cell_type": "code",
   "execution_count": 6,
   "id": "interstate-authority",
   "metadata": {},
   "outputs": [],
   "source": [
    "# Copyright 2013, Michael H. Goldwasser\n",
    "#\n",
    "# Developed for use with the book:\n",
    "#\n",
    "#        Data Structures and Algorithms in Python\n",
    "#        Michael T. Goodrich, Roberto Tamassia, and Michael H. Goldwasser\n",
    "#        John Wiley & Sons, 2013\n",
    "#\n",
    "# This program is free software: you can redistribute it and/or modify\n",
    "# it under the terms of the GNU General Public License as published by\n",
    "# the Free Software Foundation, either version 3 of the License, or\n",
    "# (at your option) any later version.\n",
    "#\n",
    "# This program is distributed in the hope that it will be useful,\n",
    "# but WITHOUT ANY WARRANTY; without even the implied warranty of\n",
    "# MERCHANTABILITY or FITNESS FOR A PARTICULAR PURPOSE.    See the\n",
    "# GNU General Public License for more details.\n",
    "#\n",
    "# You should have received a copy of the GNU General Public License\n",
    "# along with this program.    If not, see <http://www.gnu.org/licenses/>.\n",
    "\n",
    "class Progression:\n",
    "    \"\"\"Iterator producing a generic progression.\n",
    "\n",
    "    Default iterator produces the whole numbers 0, 1, 2, ...\n",
    "    \"\"\"\n",
    "\n",
    "    def __init__(self, start=0):\n",
    "        \"\"\"Initialize current to the first value of the progression.\"\"\"\n",
    "        self._current = start\n",
    "\n",
    "    def _advance(self):\n",
    "        \"\"\"Update self._current to a new value.\n",
    "\n",
    "        This should be overridden by a subclass to customize progression.\n",
    "\n",
    "        By convention, if current is set to None, this designates the\n",
    "        end of a finite progression.\n",
    "        \"\"\"\n",
    "        self._current += 1\n",
    "\n",
    "    def __next__(self):\n",
    "        \"\"\"Return the next element, or else raise StopIteration error.\"\"\"\n",
    "        if self._current is None:        # our convention to end a progression\n",
    "            raise StopIteration()\n",
    "        else:\n",
    "            answer = self._current         # record current value to return\n",
    "            self._advance()                        # advance to prepare for next time\n",
    "            return answer                            # return the answer\n",
    "\n",
    "    def __iter__(self):\n",
    "        \"\"\"By convention, an iterator must return itself as an iterator.\"\"\"\n",
    "        return self                                    \n",
    "\n",
    "    def print_progression(self, n):\n",
    "        \"\"\"Print next n values of the progression.\"\"\"\n",
    "        print(' '.join(str(next(self)) for j in range(n)))"
   ]
  },
  {
   "cell_type": "code",
   "execution_count": 9,
   "id": "hundred-security",
   "metadata": {},
   "outputs": [
    {
     "name": "stdout",
     "output_type": "stream",
     "text": [
      "Help on class list in module builtins:\n",
      "\n",
      "class list(object)\n",
      " |  list(iterable=(), /)\n",
      " |  \n",
      " |  Built-in mutable sequence.\n",
      " |  \n",
      " |  If no argument is given, the constructor creates a new empty list.\n",
      " |  The argument must be an iterable if specified.\n",
      " |  \n",
      " |  Methods defined here:\n",
      " |  \n",
      " |  __add__(self, value, /)\n",
      " |      Return self+value.\n",
      " |  \n",
      " |  __contains__(self, key, /)\n",
      " |      Return key in self.\n",
      " |  \n",
      " |  __delitem__(self, key, /)\n",
      " |      Delete self[key].\n",
      " |  \n",
      " |  __eq__(self, value, /)\n",
      " |      Return self==value.\n",
      " |  \n",
      " |  __ge__(self, value, /)\n",
      " |      Return self>=value.\n",
      " |  \n",
      " |  __getattribute__(self, name, /)\n",
      " |      Return getattr(self, name).\n",
      " |  \n",
      " |  __getitem__(...)\n",
      " |      x.__getitem__(y) <==> x[y]\n",
      " |  \n",
      " |  __gt__(self, value, /)\n",
      " |      Return self>value.\n",
      " |  \n",
      " |  __iadd__(self, value, /)\n",
      " |      Implement self+=value.\n",
      " |  \n",
      " |  __imul__(self, value, /)\n",
      " |      Implement self*=value.\n",
      " |  \n",
      " |  __init__(self, /, *args, **kwargs)\n",
      " |      Initialize self.  See help(type(self)) for accurate signature.\n",
      " |  \n",
      " |  __iter__(self, /)\n",
      " |      Implement iter(self).\n",
      " |  \n",
      " |  __le__(self, value, /)\n",
      " |      Return self<=value.\n",
      " |  \n",
      " |  __len__(self, /)\n",
      " |      Return len(self).\n",
      " |  \n",
      " |  __lt__(self, value, /)\n",
      " |      Return self<value.\n",
      " |  \n",
      " |  __mul__(self, value, /)\n",
      " |      Return self*value.\n",
      " |  \n",
      " |  __ne__(self, value, /)\n",
      " |      Return self!=value.\n",
      " |  \n",
      " |  __repr__(self, /)\n",
      " |      Return repr(self).\n",
      " |  \n",
      " |  __reversed__(self, /)\n",
      " |      Return a reverse iterator over the list.\n",
      " |  \n",
      " |  __rmul__(self, value, /)\n",
      " |      Return value*self.\n",
      " |  \n",
      " |  __setitem__(self, key, value, /)\n",
      " |      Set self[key] to value.\n",
      " |  \n",
      " |  __sizeof__(self, /)\n",
      " |      Return the size of the list in memory, in bytes.\n",
      " |  \n",
      " |  append(self, object, /)\n",
      " |      Append object to the end of the list.\n",
      " |  \n",
      " |  clear(self, /)\n",
      " |      Remove all items from list.\n",
      " |  \n",
      " |  copy(self, /)\n",
      " |      Return a shallow copy of the list.\n",
      " |  \n",
      " |  count(self, value, /)\n",
      " |      Return number of occurrences of value.\n",
      " |  \n",
      " |  extend(self, iterable, /)\n",
      " |      Extend list by appending elements from the iterable.\n",
      " |  \n",
      " |  index(self, value, start=0, stop=9223372036854775807, /)\n",
      " |      Return first index of value.\n",
      " |      \n",
      " |      Raises ValueError if the value is not present.\n",
      " |  \n",
      " |  insert(self, index, object, /)\n",
      " |      Insert object before index.\n",
      " |  \n",
      " |  pop(self, index=-1, /)\n",
      " |      Remove and return item at index (default last).\n",
      " |      \n",
      " |      Raises IndexError if list is empty or index is out of range.\n",
      " |  \n",
      " |  remove(self, value, /)\n",
      " |      Remove first occurrence of value.\n",
      " |      \n",
      " |      Raises ValueError if the value is not present.\n",
      " |  \n",
      " |  reverse(self, /)\n",
      " |      Reverse *IN PLACE*.\n",
      " |  \n",
      " |  sort(self, /, *, key=None, reverse=False)\n",
      " |      Sort the list in ascending order and return None.\n",
      " |      \n",
      " |      The sort is in-place (i.e. the list itself is modified) and stable (i.e. the\n",
      " |      order of two equal elements is maintained).\n",
      " |      \n",
      " |      If a key function is given, apply it once to each list item and sort them,\n",
      " |      ascending or descending, according to their function values.\n",
      " |      \n",
      " |      The reverse flag can be set to sort in descending order.\n",
      " |  \n",
      " |  ----------------------------------------------------------------------\n",
      " |  Static methods defined here:\n",
      " |  \n",
      " |  __new__(*args, **kwargs) from builtins.type\n",
      " |      Create and return a new object.  See help(type) for accurate signature.\n",
      " |  \n",
      " |  ----------------------------------------------------------------------\n",
      " |  Data and other attributes defined here:\n",
      " |  \n",
      " |  __hash__ = None\n",
      "\n"
     ]
    }
   ],
   "source": [
    "# lst = []\n",
    "# for j in range(n):\n",
    "#     lst.append(str(next(self)))\n",
    "# ' '.join(lst)\n",
    "help(list)"
   ]
  },
  {
   "cell_type": "code",
   "execution_count": 7,
   "id": "grand-alignment",
   "metadata": {},
   "outputs": [
    {
     "name": "stdout",
     "output_type": "stream",
     "text": [
      "Default progression:\n",
      "4 5 6 7 8 9 10 11 12 13\n"
     ]
    }
   ],
   "source": [
    "print('Default progression:')\n",
    "Progression(4).print_progression(10)\n"
   ]
  },
  {
   "cell_type": "code",
   "execution_count": 5,
   "id": "alternative-rally",
   "metadata": {},
   "outputs": [],
   "source": [
    "class ArithmeticProgression(Progression):    # inherit from Progression\n",
    "    \"\"\"Iterator producing an arithmetic progression.\"\"\"\n",
    "    \n",
    "    def __init__(self, increment=1, start=0):\n",
    "        \"\"\"Create a new arithmetic progression.\n",
    "\n",
    "        increment    the fixed constant to add to each term (default 1)\n",
    "        start            the first term of the progression (default 0)\n",
    "        \"\"\"\n",
    "        super().__init__(start)                                # initialize base class\n",
    "        self._increment = increment\n",
    "\n",
    "    def _advance(self):                                            # override inherited version\n",
    "        \"\"\"Update current value by adding the fixed increment.\"\"\"\n",
    "        self._current += self._increment"
   ]
  },
  {
   "cell_type": "code",
   "execution_count": 6,
   "id": "racial-ordinance",
   "metadata": {},
   "outputs": [
    {
     "name": "stdout",
     "output_type": "stream",
     "text": [
      "Arithmetic progression with increment 5:\n",
      "0 5 10 15 20 25 30 35 40 45\n",
      "Arithmetic progression with increment 5 and start 2:\n",
      "2 7 12 17 22 27 32 37 42 47\n"
     ]
    }
   ],
   "source": [
    "print('Arithmetic progression with increment 5:')\n",
    "ArithmeticProgression(5).print_progression(10)\n",
    "\n",
    "print('Arithmetic progression with increment 5 and start 2:')\n",
    "ArithmeticProgression(5, 2).print_progression(10)"
   ]
  },
  {
   "cell_type": "code",
   "execution_count": 8,
   "id": "seven-movement",
   "metadata": {},
   "outputs": [],
   "source": [
    "class GeometricProgression(Progression):     # inherit from Progression\n",
    "    \"\"\"Iterator producing a geometric progression.\"\"\"\n",
    "    \n",
    "    def __init__(self, base=2, start=1):\n",
    "        \"\"\"Create a new geometric progression.\n",
    "\n",
    "        base             the fixed constant multiplied to each term (default 2)\n",
    "        start            the first term of the progression (default 1)\n",
    "        \"\"\"\n",
    "        super().__init__(start)\n",
    "        self._base = base\n",
    "\n",
    "    def _advance(self):                                            # override inherited version\n",
    "        \"\"\"Update current value by multiplying it by the base value.\"\"\"\n",
    "        self._current *= self._base"
   ]
  },
  {
   "cell_type": "code",
   "execution_count": 9,
   "id": "awful-pricing",
   "metadata": {},
   "outputs": [
    {
     "name": "stdout",
     "output_type": "stream",
     "text": [
      "Geometric progression with default base:\n",
      "1 2 4 8 16 32 64 128 256 512\n",
      "Geometric progression with base 3:\n",
      "1 3 9 27 81 243 729 2187 6561 19683\n"
     ]
    }
   ],
   "source": [
    "print('Geometric progression with default base:')\n",
    "GeometricProgression().print_progression(10)\n",
    "\n",
    "print('Geometric progression with base 3:')\n",
    "GeometricProgression(3).print_progression(10)"
   ]
  },
  {
   "cell_type": "code",
   "execution_count": 11,
   "id": "checked-internship",
   "metadata": {},
   "outputs": [
    {
     "name": "stdout",
     "output_type": "stream",
     "text": [
      "5 15 45 135 405 1215 3645 10935 32805 98415\n"
     ]
    }
   ],
   "source": [
    "GeometricProgression(3, 5).print_progression(10)"
   ]
  },
  {
   "cell_type": "code",
   "execution_count": 12,
   "id": "authorized-standing",
   "metadata": {},
   "outputs": [
    {
     "name": "stdout",
     "output_type": "stream",
     "text": [
      "5\n",
      "3\n"
     ]
    }
   ],
   "source": [
    "a =3\n",
    "b = 5\n",
    "\n",
    "####\n",
    "a, b = b, a\n",
    "####\n",
    "\n",
    "print(a)  # 5\n",
    "print(b)   # 3 "
   ]
  },
  {
   "cell_type": "code",
   "execution_count": 11,
   "id": "least-logging",
   "metadata": {},
   "outputs": [],
   "source": [
    "class FibonacciProgression(Progression):\n",
    "    \"\"\"Iterator producing a generalized Fibonacci progression.\"\"\"\n",
    "    \n",
    "    def __init__(self, first=0, second=1):\n",
    "        \"\"\"Create a new fibonacci progression.\n",
    "\n",
    "        first            the first term of the progression (default 0)\n",
    "        second         the second term of the progression (default 1)\n",
    "        \"\"\"\n",
    "        super().__init__(first)                            # start progression at first\n",
    "        self._prev = second - first                    # fictitious value preceding the first\n",
    "\n",
    "    def _advance(self):\n",
    "        \"\"\"Update current value by taking sum of previous two.\"\"\"\n",
    "        self._prev, self._current = self._current, self._prev + self._current"
   ]
  },
  {
   "cell_type": "code",
   "execution_count": 19,
   "id": "fundamental-subscription",
   "metadata": {
    "scrolled": true,
    "tags": []
   },
   "outputs": [
    {
     "name": "stdout",
     "output_type": "stream",
     "text": [
      "Fibonacci progression with default start values:\n",
      "0 1 1 2 3 5 8 13 21 34\n",
      "Fibonacci progression with start values 4 and 6:\n",
      "4 6 10 16 26 42 68 110 178 288\n"
     ]
    }
   ],
   "source": [
    "print('Fibonacci progression with default start values:')\n",
    "FibonacciProgression().print_progression(10)\n",
    "\n",
    "print('Fibonacci progression with start values 4 and 6:')\n",
    "FibonacciProgression(4, 6).print_progression(10)"
   ]
  },
  {
   "cell_type": "code",
   "execution_count": null,
   "id": "vertical-yellow",
   "metadata": {},
   "outputs": [],
   "source": []
  }
 ],
 "metadata": {
  "kernelspec": {
   "display_name": "Python 3 (ipykernel)",
   "language": "python",
   "name": "python3"
  },
  "language_info": {
   "codemirror_mode": {
    "name": "ipython",
    "version": 3
   },
   "file_extension": ".py",
   "mimetype": "text/x-python",
   "name": "python",
   "nbconvert_exporter": "python",
   "pygments_lexer": "ipython3",
   "version": "3.8.16"
  }
 },
 "nbformat": 4,
 "nbformat_minor": 5
}
